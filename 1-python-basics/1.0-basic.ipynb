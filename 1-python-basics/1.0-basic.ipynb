{
 "cells": [
  {
   "cell_type": "code",
   "execution_count": 1,
   "id": "2ef0b554",
   "metadata": {},
   "outputs": [
    {
     "name": "stdout",
     "output_type": "stream",
     "text": [
      "Hello World\n"
     ]
    }
   ],
   "source": [
    "#comment single line\n",
    "print(\"Hello World\")  # print a message"
   ]
  },
  {
   "cell_type": "code",
   "execution_count": 2,
   "id": "cdead50f",
   "metadata": {},
   "outputs": [
    {
     "name": "stdout",
     "output_type": "stream",
     "text": [
      "This is a multi-line comment example\n"
     ]
    }
   ],
   "source": [
    "'''This is a multi-line comment\n",
    "It can span multiple lines\n",
    "'''\n",
    "print(\"This is a multi-line comment example\")  # print another message"
   ]
  },
  {
   "cell_type": "code",
   "execution_count": 7,
   "id": "5fd2d1e7",
   "metadata": {},
   "outputs": [
    {
     "name": "stdout",
     "output_type": "stream",
     "text": [
      "Ajay Chauhan\n",
      "Ajay Chauhan 2\n"
     ]
    }
   ],
   "source": [
    "## Basics Syntax\n",
    "# Case Sensitivity - Python is case-sensitive, meaning that `Variable` and `variable` are different identifiers.\n",
    "# Indentation - Python uses indentation to define blocks of code. Consistent indentation is crucial.\n",
    "# Comments - Use `#` for single-line comments and triple quotes (`'''` or `\"\"\"`) for multi-line comments.\n",
    "\n",
    "name=\"Ajay Chauhan\"\n",
    "Name=\"Ajay Chauhan 2\"\n",
    "print(name)\n",
    "print(Name)"
   ]
  },
  {
   "cell_type": "markdown",
   "id": "ec538d86",
   "metadata": {},
   "source": [
    "## indentation - Python uses indentation to define blocks of code. Consistent indentation is crucial."
   ]
  },
  {
   "cell_type": "code",
   "execution_count": 10,
   "id": "a1d12244",
   "metadata": {},
   "outputs": [
    {
     "name": "stdout",
     "output_type": "stream",
     "text": [
      "40\n",
      "40\n"
     ]
    }
   ],
   "source": [
    "## Indentation\n",
    "\n",
    "age=40\n",
    "if age>30:\n",
    "    print(age)\n",
    "\n",
    "print(age)"
   ]
  },
  {
   "cell_type": "code",
   "execution_count": 12,
   "id": "285fe260",
   "metadata": {},
   "outputs": [
    {
     "name": "stdout",
     "output_type": "stream",
     "text": [
      "37\n"
     ]
    }
   ],
   "source": [
    "## Line Continuation\n",
    "# Use backslash `\\` to continue a line of code onto the next line.\n",
    "\n",
    "total = 1 + 2 + 3 + 5 + \\\n",
    "5 + 6 + 7 + 8\n",
    "\n",
    "print(total)"
   ]
  },
  {
   "cell_type": "code",
   "execution_count": 14,
   "id": "570c51d9",
   "metadata": {},
   "outputs": [
    {
     "name": "stdout",
     "output_type": "stream",
     "text": [
      "6\n"
     ]
    }
   ],
   "source": [
    "## Multiple Statements on One \n",
    "\n",
    "x=1; y=2; z=3\n",
    "s=x+ y + z\n",
    "print(s)"
   ]
  },
  {
   "cell_type": "code",
   "execution_count": null,
   "id": "91513db6",
   "metadata": {},
   "outputs": [
    {
     "name": "stdout",
     "output_type": "stream",
     "text": [
      "30\n",
      "Ajay\n"
     ]
    }
   ],
   "source": [
    "## Understanding Semantics\n",
    "# Semantics refers to the meaning of the code, not just its syntax.\n",
    "# For example, the same syntax can have different meanings based on context.\n",
    "\n",
    "age = 30 ##age is and integer\n",
    "name = \"Ajay\" ##name is a string\n",
    "\n",
    "print(age)  # prints the integer value\n",
    "print(name)  # prints the string value"
   ]
  },
  {
   "cell_type": "code",
   "execution_count": null,
   "id": "e0876c9b",
   "metadata": {},
   "outputs": [
    {
     "data": {
      "text/plain": [
       "int"
      ]
     },
     "execution_count": 18,
     "metadata": {},
     "output_type": "execute_result"
    }
   ],
   "source": [
    "## type inference\n",
    "type(age)  # prints the type of age"
   ]
  },
  {
   "cell_type": "code",
   "execution_count": 19,
   "id": "1729ce6c",
   "metadata": {},
   "outputs": [
    {
     "data": {
      "text/plain": [
       "str"
      ]
     },
     "execution_count": 19,
     "metadata": {},
     "output_type": "execute_result"
    }
   ],
   "source": [
    "type(name)  # prints the type of name"
   ]
  },
  {
   "cell_type": "code",
   "execution_count": 21,
   "id": "41bfabb2",
   "metadata": {},
   "outputs": [
    {
     "name": "stdout",
     "output_type": "stream",
     "text": [
      "<class 'int'>\n",
      "<class 'str'>\n"
     ]
    }
   ],
   "source": [
    "## Type Inference\n",
    "# Python automatically infers the type of a variable based on its value.\n",
    "# For example, if you assign a number to a variable, Python treats it as an integer or float.\n",
    "\n",
    "variable= 42  # This is an integer\n",
    "print(type(variable))  # Output: <class 'int'>\n",
    "variable = \"ajay\"  # Now it's a string\n",
    "print(type(variable))  # Output: <class 'str'>"
   ]
  },
  {
   "cell_type": "code",
   "execution_count": 22,
   "id": "f156e9a2",
   "metadata": {},
   "outputs": [
    {
     "name": "stdout",
     "output_type": "stream",
     "text": [
      "Adult\n"
     ]
    }
   ],
   "source": [
    "age= 30  # This is an integer\n",
    "if age > 18:\n",
    "    print(\"Adult\")  # This is a block of code under the if statement"
   ]
  },
  {
   "cell_type": "code",
   "execution_count": null,
   "id": "42e34047",
   "metadata": {},
   "outputs": [
    {
     "ename": "NameError",
     "evalue": "name 'b' is not defined",
     "output_type": "error",
     "traceback": [
      "\u001b[31m---------------------------------------------------------------------------\u001b[39m",
      "\u001b[31mNameError\u001b[39m                                 Traceback (most recent call last)",
      "\u001b[36mCell\u001b[39m\u001b[36m \u001b[39m\u001b[32mIn[23]\u001b[39m\u001b[32m, line 1\u001b[39m\n\u001b[32m----> \u001b[39m\u001b[32m1\u001b[39m a=b\n",
      "\u001b[31mNameError\u001b[39m: name 'b' is not defined"
     ]
    }
   ],
   "source": [
    "## Name Errors\n",
    "\n",
    "a=b"
   ]
  },
  {
   "cell_type": "code",
   "execution_count": 24,
   "id": "eb6e9e7a",
   "metadata": {},
   "outputs": [
    {
     "name": "stdout",
     "output_type": "stream",
     "text": [
      "This is indented code block\n",
      "Back to the first indented code block\n",
      "This is outside the indented code block\n"
     ]
    }
   ],
   "source": [
    "### Code example of Indentation\n",
    "if True:\n",
    "    print(\"This is indented code block\")\n",
    "    if False:\n",
    "        print(\"This is another indented code block\")\n",
    "    print(\"Back to the first indented code block\")\n",
    "print(\"This is outside the indented code block\")"
   ]
  },
  {
   "cell_type": "code",
   "execution_count": null,
   "id": "4187b1cb",
   "metadata": {},
   "outputs": [],
   "source": []
  },
  {
   "cell_type": "code",
   "execution_count": null,
   "id": "290968c7",
   "metadata": {},
   "outputs": [],
   "source": []
  }
 ],
 "metadata": {
  "kernelspec": {
   "display_name": "Python 3",
   "language": "python",
   "name": "python3"
  },
  "language_info": {
   "codemirror_mode": {
    "name": "ipython",
    "version": 3
   },
   "file_extension": ".py",
   "mimetype": "text/x-python",
   "name": "python",
   "nbconvert_exporter": "python",
   "pygments_lexer": "ipython3",
   "version": "3.12.11"
  }
 },
 "nbformat": 4,
 "nbformat_minor": 5
}
