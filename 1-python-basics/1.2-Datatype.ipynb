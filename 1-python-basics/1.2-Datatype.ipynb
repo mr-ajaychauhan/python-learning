{
 "cells": [
  {
   "cell_type": "markdown",
   "id": "d2bfa5f9",
   "metadata": {},
   "source": [
    "# DataTypes\n",
    "\n",
    "1. Definition\n",
    "   - Data types are a classification of data which tell the computer or interpreter how the programmer intends to use the data.\n",
    "   - They determine the type of operations of that can be preformed on the data the values that the data can take and the amount of memory needed to store tha data.\n",
    "\n",
    "2. Importance od Data Types in Programming\n",
    "\n",
    "Explanation:\n",
    "    data types ensures that data is stored in an efficient way.\n",
    "    They help in preforming correct operations on data.\n",
    "    Proper use of data types can prevent errors and bugs in the program.\n",
    "\n",
    "## Video Outline:\n",
    "\n",
    "    1. Introduction to data types\n",
    "    2. importance of data type in programming\n",
    "    3. basic Data Types \n",
    "        ~ Integer\n",
    "        ~ Floating-point numbers\n",
    "        ~ String\n",
    "        ~ Booleans\n",
    "    4. Advanced Data Types\n",
    "        ~ List\n",
    "        ~ Tuples\n",
    "        ~ Sets\n",
    "        ~ Dictionaries\n",
    "    5. Type Conversion\n",
    "    6. Practical Example\n",
    "    "
   ]
  },
  {
   "cell_type": "code",
   "execution_count": 2,
   "id": "b3f1a5be",
   "metadata": {},
   "outputs": [
    {
     "data": {
      "text/plain": [
       "int"
      ]
     },
     "execution_count": 2,
     "metadata": {},
     "output_type": "execute_result"
    }
   ],
   "source": [
    "## integers\n",
    "\n",
    "age = 25\n",
    "type(age)  # This will print <class 'int'>"
   ]
  },
  {
   "cell_type": "code",
   "execution_count": 3,
   "id": "4af5d318",
   "metadata": {},
   "outputs": [
    {
     "data": {
      "text/plain": [
       "float"
      ]
     },
     "execution_count": 3,
     "metadata": {},
     "output_type": "execute_result"
    }
   ],
   "source": [
    "## floating point datatype\n",
    "\n",
    "height = 5.9\n",
    "type(height)  # This will print <class 'float'>"
   ]
  },
  {
   "cell_type": "code",
   "execution_count": null,
   "id": "5a1aaa3d",
   "metadata": {},
   "outputs": [],
   "source": []
  },
  {
   "cell_type": "code",
   "execution_count": 4,
   "id": "c34e989d",
   "metadata": {},
   "outputs": [
    {
     "data": {
      "text/plain": [
       "str"
      ]
     },
     "execution_count": 4,
     "metadata": {},
     "output_type": "execute_result"
    }
   ],
   "source": [
    "## string datatype\n",
    "\n",
    "name = \"John\"\n",
    "type(name)  # This will print <class 'str'>"
   ]
  },
  {
   "cell_type": "code",
   "execution_count": 5,
   "id": "dbce3c77",
   "metadata": {},
   "outputs": [
    {
     "data": {
      "text/plain": [
       "bool"
      ]
     },
     "execution_count": 5,
     "metadata": {},
     "output_type": "execute_result"
    }
   ],
   "source": [
    "## boolean datatype\n",
    "\n",
    "is_student = True\n",
    "type(is_student)  # This will print <class 'bool'>"
   ]
  },
  {
   "cell_type": "code",
   "execution_count": 7,
   "id": "21f2b182",
   "metadata": {},
   "outputs": [
    {
     "ename": "TypeError",
     "evalue": "can only concatenate str (not \"int\") to str",
     "output_type": "error",
     "traceback": [
      "\u001b[31m---------------------------------------------------------------------------\u001b[39m",
      "\u001b[31mTypeError\u001b[39m                                 Traceback (most recent call last)",
      "\u001b[36mCell\u001b[39m\u001b[36m \u001b[39m\u001b[32mIn[7]\u001b[39m\u001b[32m, line 3\u001b[39m\n\u001b[32m      1\u001b[39m \u001b[38;5;66;03m## common error\u001b[39;00m\n\u001b[32m----> \u001b[39m\u001b[32m3\u001b[39m result = \u001b[33m\"\u001b[39m\u001b[33m5\u001b[39m\u001b[33m\"\u001b[39m + \u001b[32m10\u001b[39m\n",
      "\u001b[31mTypeError\u001b[39m: can only concatenate str (not \"int\") to str"
     ]
    }
   ],
   "source": [
    "## common error\n",
    "\n",
    "result = \"5\" + 10"
   ]
  },
  {
   "cell_type": "code",
   "execution_count": 9,
   "id": "3901a5e0",
   "metadata": {},
   "outputs": [
    {
     "name": "stdout",
     "output_type": "stream",
     "text": [
      "510\n"
     ]
    }
   ],
   "source": [
    "result = \"5\" + str(10)\n",
    "\n",
    "print(result)  # This will print \"510\""
   ]
  },
  {
   "cell_type": "code",
   "execution_count": 10,
   "id": "5046dfc3",
   "metadata": {},
   "outputs": [
    {
     "data": {
      "text/plain": [
       "str"
      ]
     },
     "execution_count": 10,
     "metadata": {},
     "output_type": "execute_result"
    }
   ],
   "source": [
    "string_var = \"Hello, World!\"\n",
    "type(string_var)  # This will print <class 'str'>\n"
   ]
  },
  {
   "cell_type": "code",
   "execution_count": null,
   "id": "51134487",
   "metadata": {},
   "outputs": [],
   "source": []
  },
  {
   "cell_type": "code",
   "execution_count": null,
   "id": "9420f5d2",
   "metadata": {},
   "outputs": [],
   "source": []
  }
 ],
 "metadata": {
  "kernelspec": {
   "display_name": "Python 3",
   "language": "python",
   "name": "python3"
  },
  "language_info": {
   "codemirror_mode": {
    "name": "ipython",
    "version": 3
   },
   "file_extension": ".py",
   "mimetype": "text/x-python",
   "name": "python",
   "nbconvert_exporter": "python",
   "pygments_lexer": "ipython3",
   "version": "3.12.11"
  }
 },
 "nbformat": 4,
 "nbformat_minor": 5
}
