{
 "cells": [
  {
   "cell_type": "markdown",
   "id": "571933dd",
   "metadata": {},
   "source": [
    "### Variables"
   ]
  },
  {
   "cell_type": "markdown",
   "id": "b9814512",
   "metadata": {},
   "source": [
    "## Variables\n",
    "Variables are fundamental elements in programming that allow you to store and manipulate data. They act as containers for values, which can be changed during program execution.\n",
    "### Variable Naming Rules\n",
    "1. **Start with a letter or underscore**: Variable names must begin with a letter (a-z, A-Z) or an underscore (_).\n",
    "2. **Followed by letters, digits, or underscores**: After the first character, you can use letters, digits (0-9), or underscores.\n",
    "3. **Case-sensitive**: Variable names are case-sensitive, meaning `myVariable`, `MyVariable`, and `MYVARIABLE` are considered different variables.\n",
    "4. **No spaces or special characters**: Variable names cannot contain spaces or special characters (like @, #, $, etc.).\n",
    "5. **Avoid reserved keywords**: Do not use Python's reserved keywords (like `if`, `else`, `while`, etc.) as variable names.\n",
    "### Examples of Valid Variable Names\n",
    "```python\n",
    "my_variable = 10\n",
    "myVariable2 = \"Hello\"\n",
    "_variable3 = 3.14\n",
    "```\n",
    "### Examples of Invalid Variable Names\n",
    "```python\n",
    "2nd_variable = 5  # Cannot start with a digit\n",
    "my-variable = 20  # Hyphen is not allowed\n",
    "my variable = \"World\"  # Spaces are not allowed\n",
    "my@variable = 100  # Special characters are not allowed\n",
    "```"
   ]
  },
  {
   "cell_type": "code",
   "execution_count": 1,
   "id": "c3ca9459",
   "metadata": {},
   "outputs": [
    {
     "name": "stdout",
     "output_type": "stream",
     "text": [
      "100\n"
     ]
    }
   ],
   "source": [
    "a=100\n",
    "print(a)  # This will print the value of a, which is 100"
   ]
  },
  {
   "cell_type": "code",
   "execution_count": null,
   "id": "be905431",
   "metadata": {},
   "outputs": [
    {
     "name": "stdout",
     "output_type": "stream",
     "text": [
      "30\n",
      "30\n",
      "5.9\n",
      "Ajay\n",
      "True\n"
     ]
    }
   ],
   "source": [
    "### Declaring and assigning variables\n",
    "a = 10\n",
    "b = 20\n",
    "c = a + b  # c will be 30\n",
    "print(c)  # This will print the value of c, which is 30\n",
    "age = 30  # This is an integer\n",
    "height = 5.9  # This is a float\n",
    "name = \"Ajay\"  # This is a string\n",
    "is_student = True  # This is a \n",
    "\n",
    "## printing variables\n",
    "print(age)  # This will print the value of age, which is 30\n",
    "print(height)  # This will print the value of height, which is 5.9\n",
    "print(name)  # This will print the value of name, which is \"Ajay\"   \n",
    "print(is_student)  # This will print the value of is_student, which is True"
   ]
  },
  {
   "cell_type": "code",
   "execution_count": null,
   "id": "3779e358",
   "metadata": {},
   "outputs": [],
   "source": [
    "## Naming conventions\n",
    "### Variable names can contain letters, numbers, and underscores\n",
    "### They cannot start with a number\n",
    "### They are case-sensitive, meaning `age` and `Age` are different variables\n",
    "### Avoid using reserved keywords like `if`, `else`, `while`, etc.\n",
    "### they must start with a letter or a '_'.\n",
    "### They can be of any length, but shorter names are generally preferred for readability and maintainability. and meaningful names are preferred for better understanding of the code.\n",
    "\n",
    "### valid variables names \n",
    "\n",
    "first_name=\"Ajay\"\n",
    "last_name=\"Chauhan\"\n",
    "\n",
    "### invalid variable names\n",
    "#1st_name=\"Ajay\"\n",
    "#last-name=\"Chauhan\"\n",
    "#@name=\"Ajay\""
   ]
  },
  {
   "cell_type": "code",
   "execution_count": null,
   "id": "49779e39",
   "metadata": {},
   "outputs": [],
   "source": [
    "### Case sensitivity\n",
    "### Variable names are case-sensitive, meaning `age` and `Age` are different variables.\n",
    "\n",
    "### Both are different variables\n",
    "name = \"Ajay\"\n",
    "Name = \"Ajay\"\n"
   ]
  },
  {
   "cell_type": "code",
   "execution_count": 1,
   "id": "9e9073c3",
   "metadata": {},
   "outputs": [
    {
     "name": "stdout",
     "output_type": "stream",
     "text": [
      "Ajay\n",
      "<class 'str'>\n"
     ]
    }
   ],
   "source": [
    "## Understanding variable types\n",
    "## python is dynamically typed, type of a variable is determined at runtime\n",
    "age = 30  # This is an integer\n",
    "name = \"Ajay\"  # This is a string\n",
    "height = 5.9  # This is a float\n",
    "is_student = True  # This is a boolean\n",
    "name = \"Ajay\"  # This is a string\n",
    "\n",
    "print(name)\n",
    "print(type(name))  # This will print <class 'str'>\n"
   ]
  },
  {
   "cell_type": "code",
   "execution_count": null,
   "id": "89709ff6",
   "metadata": {},
   "outputs": [],
   "source": [
    "## Type Checking and conversion\n",
    "\n",
    "type(height)  # This will return <class 'float'>"
   ]
  },
  {
   "cell_type": "code",
   "execution_count": 2,
   "id": "697d1e34",
   "metadata": {},
   "outputs": [
    {
     "name": "stdout",
     "output_type": "stream",
     "text": [
      "<class 'int'>\n",
      "<class 'int'>\n",
      "<class 'str'>\n"
     ]
    }
   ],
   "source": [
    "age = 25\n",
    "print(type(age))  # This will print <class 'int'>\n",
    "\n",
    "\n",
    "# Type conversion \n",
    "age_str = str(age)  # Convert integer to string\n",
    "\n",
    "print(type(age))  # This will print <class 'str'>\n",
    "print(type(age_str))  # This will print <class 'str'>"
   ]
  },
  {
   "cell_type": "code",
   "execution_count": 4,
   "id": "98595b14",
   "metadata": {},
   "outputs": [
    {
     "name": "stdout",
     "output_type": "stream",
     "text": [
      "<class 'str'>\n",
      "<class 'int'>\n"
     ]
    }
   ],
   "source": [
    "age = '25'\n",
    "print(type(age))  # This will print <class 'str'>\n",
    "\n",
    "age = int(age)  # Convert string to integer\n",
    "print(type(age))  # This will print <class 'int'>"
   ]
  },
  {
   "cell_type": "code",
   "execution_count": 5,
   "id": "b735e9fc",
   "metadata": {},
   "outputs": [
    {
     "ename": "ValueError",
     "evalue": "invalid literal for int() with base 10: 'Ajay'",
     "output_type": "error",
     "traceback": [
      "\u001b[31m---------------------------------------------------------------------------\u001b[39m",
      "\u001b[31mValueError\u001b[39m                                Traceback (most recent call last)",
      "\u001b[36mCell\u001b[39m\u001b[36m \u001b[39m\u001b[32mIn[5]\u001b[39m\u001b[32m, line 3\u001b[39m\n\u001b[32m      1\u001b[39m name = \u001b[33m\"\u001b[39m\u001b[33mAjay\u001b[39m\u001b[33m\"\u001b[39m\n\u001b[32m----> \u001b[39m\u001b[32m3\u001b[39m \u001b[38;5;28mint\u001b[39m(name)\n",
      "\u001b[31mValueError\u001b[39m: invalid literal for int() with base 10: 'Ajay'"
     ]
    }
   ],
   "source": [
    "name = \"Ajay\"\n",
    "\n",
    "int(name)  # This will raise a ValueError because \"Ajay\" cannot be converted to an integer"
   ]
  },
  {
   "cell_type": "code",
   "execution_count": 8,
   "id": "5e1c7563",
   "metadata": {},
   "outputs": [
    {
     "name": "stdout",
     "output_type": "stream",
     "text": [
      "<class 'float'>\n"
     ]
    },
    {
     "data": {
      "text/plain": [
       "5.0"
      ]
     },
     "execution_count": 8,
     "metadata": {},
     "output_type": "execute_result"
    }
   ],
   "source": [
    "height = 5.9\n",
    "print(type(height))  # This will print <class 'float'>\n",
    "\n",
    "int(height)  # This will convert float to integer, resulting in 5\n",
    "\n",
    "float(int(height))  # This will convert integer to float, resulting in 5.0\n"
   ]
  },
  {
   "cell_type": "code",
   "execution_count": 10,
   "id": "11b01d4e",
   "metadata": {},
   "outputs": [
    {
     "name": "stdout",
     "output_type": "stream",
     "text": [
      "10 <class 'int'>\n",
      "3.14 <class 'float'>\n"
     ]
    }
   ],
   "source": [
    "## Dynamic Typing in Python\n",
    "\n",
    "#Python allows the type of a variable to change as the program execution.\n",
    "\n",
    "# Example\n",
    "var=10 #int\n",
    "print(var,type(var))\n",
    "\n",
    "var= 3.14\n",
    "print(var,type(var))"
   ]
  },
  {
   "cell_type": "code",
   "execution_count": 12,
   "id": "91f87240",
   "metadata": {},
   "outputs": [
    {
     "name": "stdout",
     "output_type": "stream",
     "text": [
      "23 <class 'str'>\n"
     ]
    }
   ],
   "source": [
    "## input \n",
    "\n",
    "age= input(\"Enter your age: \")  # input() function takes input as a string\n",
    "print(age,type(age))"
   ]
  },
  {
   "cell_type": "code",
   "execution_count": 13,
   "id": "f21cfca2",
   "metadata": {},
   "outputs": [
    {
     "name": "stdout",
     "output_type": "stream",
     "text": [
      "The sum is: 390.0\n",
      "The difference is: -300.0\n",
      "The product is: 15525.0\n",
      "The quotient is: 0.13043478260869565\n"
     ]
    }
   ],
   "source": [
    "## Simple Calculator\n",
    "\n",
    "# This program adds two numbers provided by the user\n",
    "num1 = input(\"Enter first number: \")\n",
    "num2 = input(\"Enter second number: \")\n",
    "\n",
    "# Convert strings to floats\n",
    "num1 = float(num1)\n",
    "num2 = float(num2)\n",
    "\n",
    "# Perform addition\n",
    "result = num1 + num2\n",
    "# Perform subtraction\n",
    "result_sub = num1 - num2\n",
    "# Perform multiplication\n",
    "result_mul = num1 * num2\n",
    "# Perform division\n",
    "result_div = num1 / num2\n",
    "\n",
    "print(\"The sum is:\", result)\n",
    "print(\"The difference is:\", result_sub)\n",
    "print(\"The product is:\", result_mul)\n",
    "print(\"The quotient is:\", result_div)"
   ]
  }
 ],
 "metadata": {
  "kernelspec": {
   "display_name": "Python 3",
   "language": "python",
   "name": "python3"
  },
  "language_info": {
   "codemirror_mode": {
    "name": "ipython",
    "version": 3
   },
   "file_extension": ".py",
   "mimetype": "text/x-python",
   "name": "python",
   "nbconvert_exporter": "python",
   "pygments_lexer": "ipython3",
   "version": "3.12.11"
  }
 },
 "nbformat": 4,
 "nbformat_minor": 5
}
