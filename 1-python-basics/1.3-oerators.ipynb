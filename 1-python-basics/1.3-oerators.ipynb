{
 "cells": [
  {
   "cell_type": "markdown",
   "id": "f2ca3852",
   "metadata": {},
   "source": [
    "\n",
    "# Deep Dive Into Operators\n",
    "\n",
    "## Video Outline:\n",
    "\n",
    "    1. Introduction to Operators\n",
    "        Operators are special symbols or keywords in programming that are used to perform operations on operands (variables and values). They are fundamental to writing expressions and manipulating data.\n",
    "\n",
    "    2. Arithmetic Operators\n",
    "        Arithmetic operators are used to perform mathematical operations such as addition, subtraction, multiplication, division, and more.\n",
    "\n",
    "        ~ Addition (+): Adds two operands.\n",
    "            Example: 5 + 3 = 8\n",
    "\n",
    "        ~ Subtraction (-): Subtracts the right operand from the left operand.\n",
    "            Example: 10 - 4 = 6\n",
    "\n",
    "        ~ Multiplication (*): Multiplies two operands.\n",
    "            Example: 7 * 2 = 14\n",
    "\n",
    "        ~ Division (/): Divides the left operand by the right operand.\n",
    "            Example: 8 / 2 = 4.0\n",
    "\n",
    "        ~ Floor Division (//): Divides and returns the integer part of the quotient.\n",
    "            Example: 9 // 2 = 4\n",
    "\n",
    "        ~ Modulus (%): Returns the remainder after division.\n",
    "            Example: 10 % 3 = 1\n",
    "\n",
    "        ~ Exponentiation (**): Raises the left operand to the power of the right operand.\n",
    "            Example: 2 ** 3 = 8\n",
    "\n",
    "    3. Comparison Operators\n",
    "        Comparison operators are used to compare two values and return a boolean result (True or False).\n",
    "\n",
    "        ~ Equal to (==): Checks if two values are equal.\n",
    "        ~ Not equal to (!=): Checks if two values are not equal.\n",
    "        ~ Greater than (>): Checks if the left value is greater than the right.\n",
    "        ~ Less than (<): Checks if the left value is less than the right.\n",
    "        ~ Greater than or equal to (>=): Checks if the left value is greater than or equal to the right.\n",
    "        ~ Less than or equal to (<=): Checks if the left value is less than or equal to the right.\n",
    "\n",
    "    4. Logical Operators\n",
    "        Logical operators are used to combine conditional statements.\n",
    "\n",
    "        ~ and: Returns True if both statements are true.\n",
    "        ~ or: Returns True if at least one statement is true.\n",
    "        ~ not: Reverses the result, returns False if the result is true.\n",
    "\n",
    "    5. Assignment Operators\n",
    "        Assignment operators are used to assign values to variables.\n",
    "\n",
    "        ~ = : Assigns value from right side to left side variable.\n",
    "        ~ += : Adds right operand to the left operand and assigns the result to left operand.\n",
    "        ~ -= : Subtracts right operand from the left operand and assigns the result to left operand.\n",
    "        ~ *= : Multiplies right operand with the left operand and assigns the result to left operand.\n",
    "        ~ /= : Divides left operand by the right operand and assigns the result to left operand.\n",
    "        ~ //= : Performs floor division and assigns the result to left operand.\n",
    "        ~ %= : Takes modulus and assigns the result to left operand.\n",
    "        ~ **= : Performs exponentiation and assigns the result to left operand.\n",
    "\n",
    "    6. Bitwise Operators\n",
    "        Bitwise operators are used to perform bit-level operations.\n",
    "\n",
    "        ~ & : Bitwise AND\n",
    "        ~ | : Bitwise OR\n",
    "        ~ ^ : Bitwise XOR\n",
    "        ~ ~ : Bitwise NOT\n",
    "        ~ << : Bitwise left shift\n",
    "        ~ >> : Bitwise right shift\n",
    "\n",
    "    7. Membership Operators\n",
    "        Membership operators are used to test if a sequence contains a value.\n",
    "\n",
    "        ~ in: Returns True if a value is found in the sequence.\n",
    "        ~ not in: Returns True if a value is not found in the sequence.\n",
    "\n",
    "    8. Identity Operators\n",
    "        Identity operators compare the memory locations of two objects.\n",
    "\n",
    "        ~ is: Returns True if both variables point to the same object.\n",
    "        ~ is not: Returns True if both variables do not point to the same object."
   ]
  },
  {
   "cell_type": "code",
   "execution_count": 5,
   "id": "ac700dd4",
   "metadata": {},
   "outputs": [
    {
     "name": "stdout",
     "output_type": "stream",
     "text": [
      "15\n",
      "5\n",
      "50\n",
      "2.0\n",
      "2\n",
      "0\n",
      "100000\n"
     ]
    }
   ],
   "source": [
    "# Arithmetic Operator\n",
    "\n",
    "a=10\n",
    "b=5\n",
    "result = a+b\n",
    "print(result)\n",
    "result = a-b\n",
    "print(result)\n",
    "result = a*b\n",
    "print(result)\n",
    "result = a/b\n",
    "print(result)\n",
    "\n",
    "# Floor Division\n",
    "result = a//b\n",
    "print(result)\n",
    "\n",
    "# Modulus\n",
    "result = a % b\n",
    "print(result)\n",
    "\n",
    "# Exponentiation\n",
    "result = a ** b\n",
    "print(result)"
   ]
  },
  {
   "cell_type": "code",
   "execution_count": 6,
   "id": "309d0220",
   "metadata": {},
   "outputs": [
    {
     "name": "stdout",
     "output_type": "stream",
     "text": [
      "The result is not 15\n"
     ]
    }
   ],
   "source": [
    "str_result = str(result)\n",
    "\n",
    "#comparison\n",
    "if str_result == \"15\":\n",
    "    print(\"The result is 15\")\n",
    "else:\n",
    "    print(\"The result is not 15\")\n",
    "    "
   ]
  },
  {
   "cell_type": "code",
   "execution_count": 7,
   "id": "894e1cc3",
   "metadata": {},
   "outputs": [
    {
     "name": "stdout",
     "output_type": "stream",
     "text": [
      "The result is not 15\n"
     ]
    }
   ],
   "source": [
    "# not equal\n",
    "if str_result != \"15\":\n",
    "    print(\"The result is not 15\")\n",
    "else:\n",
    "    print(\"The result is 15\")\n"
   ]
  },
  {
   "cell_type": "code",
   "execution_count": 8,
   "id": "b7f943e9",
   "metadata": {},
   "outputs": [
    {
     "name": "stdout",
     "output_type": "stream",
     "text": [
      "The result is not greater than 15\n"
     ]
    }
   ],
   "source": [
    "# greater than\n",
    "if str_result > \"15\":\n",
    "    print(\"The result is greater than 15\")\n",
    "else:\n",
    "    print(\"The result is not greater than 15\")\n"
   ]
  },
  {
   "cell_type": "code",
   "execution_count": 9,
   "id": "7e918f74",
   "metadata": {},
   "outputs": [
    {
     "name": "stdout",
     "output_type": "stream",
     "text": [
      "The result is less than 15\n"
     ]
    }
   ],
   "source": [
    "# less than\n",
    "if str_result < \"15\":\n",
    "    print(\"The result is less than 15\")\n",
    "else:\n",
    "    print(\"The result is not less than 15\")\n"
   ]
  },
  {
   "cell_type": "code",
   "execution_count": 10,
   "id": "cf7c1ce6",
   "metadata": {},
   "outputs": [
    {
     "name": "stdout",
     "output_type": "stream",
     "text": [
      "The result is not greater than or equal to 15\n"
     ]
    }
   ],
   "source": [
    "# greater than or equal to\n",
    "if str_result >= \"15\":\n",
    "    print(\"The result is greater than or equal to 15\")\n",
    "else:\n",
    "    print(\"The result is not greater than or equal to 15\")\n"
   ]
  },
  {
   "cell_type": "code",
   "execution_count": 11,
   "id": "c8523b19",
   "metadata": {},
   "outputs": [
    {
     "name": "stdout",
     "output_type": "stream",
     "text": [
      "The result is less than or equal to 15\n"
     ]
    }
   ],
   "source": [
    "# less than or equal to\n",
    "if str_result <= \"15\":\n",
    "    print(\"The result is less than or equal to 15\")\n",
    "else:\n",
    "    print(\"The result is not less than or equal to 15\")\n"
   ]
  },
  {
   "cell_type": "code",
   "execution_count": 13,
   "id": "43aa0f2f",
   "metadata": {},
   "outputs": [
    {
     "name": "stdout",
     "output_type": "stream",
     "text": [
      "At least one of a or b is False\n",
      "At least one of a or b is True\n",
      "a is True\n"
     ]
    }
   ],
   "source": [
    "# Logical Operators\n",
    "\n",
    "## and or not \n",
    "\n",
    "a = True\n",
    "b = False\n",
    "c = True\n",
    "\n",
    "if a and b:\n",
    "    print(\"Both a and b are True\")\n",
    "else:\n",
    "    print(\"At least one of a or b is False\")\n",
    "\n",
    "if a or b:\n",
    "    print(\"At least one of a or b is True\")\n",
    "else:\n",
    "    print(\"Both a and b are False\")\n",
    "\n",
    "if not a:\n",
    "    print(\"a is False\")\n",
    "else:\n",
    "    print(\"a is True\")\n"
   ]
  },
  {
   "cell_type": "code",
   "execution_count": null,
   "id": "52a5b6de",
   "metadata": {},
   "outputs": [],
   "source": []
  }
 ],
 "metadata": {
  "kernelspec": {
   "display_name": "Python 3",
   "language": "python",
   "name": "python3"
  },
  "language_info": {
   "codemirror_mode": {
    "name": "ipython",
    "version": 3
   },
   "file_extension": ".py",
   "mimetype": "text/x-python",
   "name": "python",
   "nbconvert_exporter": "python",
   "pygments_lexer": "ipython3",
   "version": "3.12.11"
  }
 },
 "nbformat": 4,
 "nbformat_minor": 5
}
